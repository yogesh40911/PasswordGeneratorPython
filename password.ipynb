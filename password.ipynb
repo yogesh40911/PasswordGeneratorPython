import random as rm
import string

lower = string.ascii_lowercase
upper = string.ascii_uppercase
num = string.digits
special = string.punctuation
symbol=lower+upper+num+special
password="".join(rm.sample(symbol,9))
print(password)
